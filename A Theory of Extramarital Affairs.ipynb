{
 "cells": [
  {
   "cell_type": "markdown",
   "metadata": {},
   "source": [
    "# 婚姻品質是否會導致婚外情?\n",
    "\n",
    "### 許sir"
   ]
  },
  {
   "cell_type": "markdown",
   "metadata": {},
   "source": [
    "原始論文(A Theory of Extramarital Affairs ) https://fairmodel.econ.yale.edu/rayfair/pdf/1978a200.pdf\n",
    "\n",
    "- rate_marriage(婚姻品質): How rate marriage,\n",
    "    - 1 = very poor,\n",
    "    - 2 = poor,\n",
    "    - 3 = fair,\n",
    "    - 4 = good,\n",
    "    - 5 = very good\n",
    "    \n",
    "- age (年齡): Age\n",
    "- yrs_married(結婚多久) : No. years married. Interval approximations. See original paper for detailed explanation.\n",
    "- children(有沒有小孩) : No. children\n",
    "- religious(宗教虔誠度) : How relgious,\n",
    "    - 1 = not,\n",
    "    - 2 = mildly,\n",
    "    - 3 = fairly,\n",
    "    - 4 = strongly\n",
    "- educ(教育程度) : Level of education,\n",
    "    - 9 = grade school,\n",
    "    - 12 = high school,\n",
    "    - 14 = some college,\n",
    "    - 16 = college graduate,\n",
    "    - 17 = some graduate school,\n",
    "    - 20 = advanced degree\n",
    "- occupation(職業) :\n",
    "    - 1 = student,\n",
    "    - 2 = farming, agriculture; semi-skilled,or unskilled worker;\n",
    "    - 3 = white-colloar;\n",
    "    - 4 = teacher counselor social worker, nurse; artist, writers; technician, skilled worker,\n",
    "    - 5 = managerial, administrative, business,\n",
    "    - 6 = professional with advanced degree\n",
    "    \n",
    "- occupation_husb(老公的職業) : Husband’s occupation. Same as occupation.\n",
    "- affairs (婚外情): measure of time spent in extramarital affairs"
   ]
  },
  {
   "cell_type": "markdown",
   "metadata": {},
   "source": [
    ">## [資料準備與清理]\n"
   ]
  },
  {
   "cell_type": "code",
   "execution_count": 26,
   "metadata": {},
   "outputs": [],
   "source": [
    "#如果你用python的目標是科學計算或數值分析，基本是引⼊三個套件\n",
    "\n",
    "%matplotlib inline \n",
    "##將後續畫圖的結果直接顯現在網頁中\n",
    "\n",
    "import numpy as np \n",
    "import matplotlib.pyplot as plt \n",
    "import pandas as pd  #"
   ]
  },
  {
   "cell_type": "code",
   "execution_count": 2,
   "metadata": {},
   "outputs": [],
   "source": [
    "fair = pd.read_csv(\"data/fair.csv\")"
   ]
  },
  {
   "cell_type": "code",
   "execution_count": 3,
   "metadata": {},
   "outputs": [
    {
     "data": {
      "text/html": [
       "<div>\n",
       "<style scoped>\n",
       "    .dataframe tbody tr th:only-of-type {\n",
       "        vertical-align: middle;\n",
       "    }\n",
       "\n",
       "    .dataframe tbody tr th {\n",
       "        vertical-align: top;\n",
       "    }\n",
       "\n",
       "    .dataframe thead th {\n",
       "        text-align: right;\n",
       "    }\n",
       "</style>\n",
       "<table border=\"1\" class=\"dataframe\">\n",
       "  <thead>\n",
       "    <tr style=\"text-align: right;\">\n",
       "      <th></th>\n",
       "      <th>rate_marriage</th>\n",
       "      <th>age</th>\n",
       "      <th>yrs_married</th>\n",
       "      <th>children</th>\n",
       "      <th>religious</th>\n",
       "      <th>educ</th>\n",
       "      <th>occupation</th>\n",
       "      <th>occupation_husb</th>\n",
       "      <th>affairs</th>\n",
       "    </tr>\n",
       "  </thead>\n",
       "  <tbody>\n",
       "    <tr>\n",
       "      <th>0</th>\n",
       "      <td>3</td>\n",
       "      <td>32.0</td>\n",
       "      <td>9.0</td>\n",
       "      <td>3.0</td>\n",
       "      <td>3</td>\n",
       "      <td>17</td>\n",
       "      <td>2</td>\n",
       "      <td>5</td>\n",
       "      <td>0.111111</td>\n",
       "    </tr>\n",
       "    <tr>\n",
       "      <th>1</th>\n",
       "      <td>3</td>\n",
       "      <td>27.0</td>\n",
       "      <td>13.0</td>\n",
       "      <td>3.0</td>\n",
       "      <td>1</td>\n",
       "      <td>14</td>\n",
       "      <td>3</td>\n",
       "      <td>4</td>\n",
       "      <td>3.230769</td>\n",
       "    </tr>\n",
       "    <tr>\n",
       "      <th>2</th>\n",
       "      <td>4</td>\n",
       "      <td>22.0</td>\n",
       "      <td>2.5</td>\n",
       "      <td>0.0</td>\n",
       "      <td>1</td>\n",
       "      <td>16</td>\n",
       "      <td>3</td>\n",
       "      <td>5</td>\n",
       "      <td>1.400000</td>\n",
       "    </tr>\n",
       "    <tr>\n",
       "      <th>3</th>\n",
       "      <td>4</td>\n",
       "      <td>37.0</td>\n",
       "      <td>16.5</td>\n",
       "      <td>4.0</td>\n",
       "      <td>3</td>\n",
       "      <td>16</td>\n",
       "      <td>5</td>\n",
       "      <td>5</td>\n",
       "      <td>0.727273</td>\n",
       "    </tr>\n",
       "    <tr>\n",
       "      <th>4</th>\n",
       "      <td>5</td>\n",
       "      <td>27.0</td>\n",
       "      <td>9.0</td>\n",
       "      <td>1.0</td>\n",
       "      <td>1</td>\n",
       "      <td>14</td>\n",
       "      <td>3</td>\n",
       "      <td>4</td>\n",
       "      <td>4.666666</td>\n",
       "    </tr>\n",
       "  </tbody>\n",
       "</table>\n",
       "</div>"
      ],
      "text/plain": [
       "   rate_marriage   age  yrs_married  children  religious  educ  occupation  \\\n",
       "0              3  32.0          9.0       3.0          3    17           2   \n",
       "1              3  27.0         13.0       3.0          1    14           3   \n",
       "2              4  22.0          2.5       0.0          1    16           3   \n",
       "3              4  37.0         16.5       4.0          3    16           5   \n",
       "4              5  27.0          9.0       1.0          1    14           3   \n",
       "\n",
       "   occupation_husb   affairs  \n",
       "0                5  0.111111  \n",
       "1                4  3.230769  \n",
       "2                5  1.400000  \n",
       "3                5  0.727273  \n",
       "4                4  4.666666  "
      ]
     },
     "execution_count": 3,
     "metadata": {},
     "output_type": "execute_result"
    }
   ],
   "source": [
    "fair.head() #看前五筆資料"
   ]
  },
  {
   "cell_type": "code",
   "execution_count": 4,
   "metadata": {},
   "outputs": [
    {
     "name": "stdout",
     "output_type": "stream",
     "text": [
      "(6366, 9)\n"
     ]
    }
   ],
   "source": [
    "print(fair.shape)# 印出資料維度"
   ]
  },
  {
   "cell_type": "code",
   "execution_count": 5,
   "metadata": {},
   "outputs": [
    {
     "data": {
      "text/plain": [
       "rate_marriage        int64\n",
       "age                float64\n",
       "yrs_married        float64\n",
       "children           float64\n",
       "religious            int64\n",
       "educ                 int64\n",
       "occupation           int64\n",
       "occupation_husb      int64\n",
       "affairs            float64\n",
       "dtype: object"
      ]
     },
     "execution_count": 5,
     "metadata": {},
     "output_type": "execute_result"
    }
   ],
   "source": [
    "fair.dtypes #查詢資料型態"
   ]
  },
  {
   "cell_type": "markdown",
   "metadata": {},
   "source": [
    "#### 本文中共有三個類別變數要做轉換: \n",
    "- 職業 (occupation)\n",
    "- 老公的職業 (occupation_husb)\n",
    "- 宗教的虔誠度 (religious)"
   ]
  },
  {
   "cell_type": "code",
   "execution_count": 6,
   "metadata": {},
   "outputs": [],
   "source": [
    "#將三個應該是類別變數的轉為類別\n",
    "fair[\"occupation\"] = fair[\"occupation\"].astype(\"category\")\n",
    "fair[\"occupation_husb\"] = fair[\"occupation_husb\"].astype(\"category\")\n",
    "fair[\"religious\"] = fair[\"religious\"].astype(\"category\")\n"
   ]
  },
  {
   "cell_type": "code",
   "execution_count": 7,
   "metadata": {},
   "outputs": [
    {
     "data": {
      "text/plain": [
       "rate_marriage         int64\n",
       "age                 float64\n",
       "yrs_married         float64\n",
       "children            float64\n",
       "religious          category\n",
       "educ                  int64\n",
       "occupation         category\n",
       "occupation_husb    category\n",
       "affairs             float64\n",
       "dtype: object"
      ]
     },
     "execution_count": 7,
     "metadata": {},
     "output_type": "execute_result"
    }
   ],
   "source": [
    "fair.dtypes #查詢資料型態"
   ]
  },
  {
   "cell_type": "markdown",
   "metadata": {},
   "source": [
    ">## [PART 1]. 敘述性統計"
   ]
  },
  {
   "cell_type": "code",
   "execution_count": 8,
   "metadata": {},
   "outputs": [
    {
     "data": {
      "text/html": [
       "<div>\n",
       "<style scoped>\n",
       "    .dataframe tbody tr th:only-of-type {\n",
       "        vertical-align: middle;\n",
       "    }\n",
       "\n",
       "    .dataframe tbody tr th {\n",
       "        vertical-align: top;\n",
       "    }\n",
       "\n",
       "    .dataframe thead th {\n",
       "        text-align: right;\n",
       "    }\n",
       "</style>\n",
       "<table border=\"1\" class=\"dataframe\">\n",
       "  <thead>\n",
       "    <tr style=\"text-align: right;\">\n",
       "      <th></th>\n",
       "      <th>rate_marriage</th>\n",
       "      <th>age</th>\n",
       "      <th>yrs_married</th>\n",
       "      <th>children</th>\n",
       "      <th>educ</th>\n",
       "      <th>affairs</th>\n",
       "    </tr>\n",
       "  </thead>\n",
       "  <tbody>\n",
       "    <tr>\n",
       "      <th>count</th>\n",
       "      <td>6366.000000</td>\n",
       "      <td>6366.000000</td>\n",
       "      <td>6366.000000</td>\n",
       "      <td>6366.000000</td>\n",
       "      <td>6366.000000</td>\n",
       "      <td>6366.000000</td>\n",
       "    </tr>\n",
       "    <tr>\n",
       "      <th>mean</th>\n",
       "      <td>4.109645</td>\n",
       "      <td>29.082862</td>\n",
       "      <td>9.009425</td>\n",
       "      <td>1.396874</td>\n",
       "      <td>14.209865</td>\n",
       "      <td>0.705374</td>\n",
       "    </tr>\n",
       "    <tr>\n",
       "      <th>std</th>\n",
       "      <td>0.961430</td>\n",
       "      <td>6.847882</td>\n",
       "      <td>7.280120</td>\n",
       "      <td>1.433471</td>\n",
       "      <td>2.178003</td>\n",
       "      <td>2.203374</td>\n",
       "    </tr>\n",
       "    <tr>\n",
       "      <th>min</th>\n",
       "      <td>1.000000</td>\n",
       "      <td>17.500000</td>\n",
       "      <td>0.500000</td>\n",
       "      <td>0.000000</td>\n",
       "      <td>9.000000</td>\n",
       "      <td>0.000000</td>\n",
       "    </tr>\n",
       "    <tr>\n",
       "      <th>25%</th>\n",
       "      <td>4.000000</td>\n",
       "      <td>22.000000</td>\n",
       "      <td>2.500000</td>\n",
       "      <td>0.000000</td>\n",
       "      <td>12.000000</td>\n",
       "      <td>0.000000</td>\n",
       "    </tr>\n",
       "    <tr>\n",
       "      <th>50%</th>\n",
       "      <td>4.000000</td>\n",
       "      <td>27.000000</td>\n",
       "      <td>6.000000</td>\n",
       "      <td>1.000000</td>\n",
       "      <td>14.000000</td>\n",
       "      <td>0.000000</td>\n",
       "    </tr>\n",
       "    <tr>\n",
       "      <th>75%</th>\n",
       "      <td>5.000000</td>\n",
       "      <td>32.000000</td>\n",
       "      <td>16.500000</td>\n",
       "      <td>2.000000</td>\n",
       "      <td>16.000000</td>\n",
       "      <td>0.484848</td>\n",
       "    </tr>\n",
       "    <tr>\n",
       "      <th>max</th>\n",
       "      <td>5.000000</td>\n",
       "      <td>42.000000</td>\n",
       "      <td>23.000000</td>\n",
       "      <td>5.500000</td>\n",
       "      <td>20.000000</td>\n",
       "      <td>57.599991</td>\n",
       "    </tr>\n",
       "  </tbody>\n",
       "</table>\n",
       "</div>"
      ],
      "text/plain": [
       "       rate_marriage          age  yrs_married     children         educ  \\\n",
       "count    6366.000000  6366.000000  6366.000000  6366.000000  6366.000000   \n",
       "mean        4.109645    29.082862     9.009425     1.396874    14.209865   \n",
       "std         0.961430     6.847882     7.280120     1.433471     2.178003   \n",
       "min         1.000000    17.500000     0.500000     0.000000     9.000000   \n",
       "25%         4.000000    22.000000     2.500000     0.000000    12.000000   \n",
       "50%         4.000000    27.000000     6.000000     1.000000    14.000000   \n",
       "75%         5.000000    32.000000    16.500000     2.000000    16.000000   \n",
       "max         5.000000    42.000000    23.000000     5.500000    20.000000   \n",
       "\n",
       "           affairs  \n",
       "count  6366.000000  \n",
       "mean      0.705374  \n",
       "std       2.203374  \n",
       "min       0.000000  \n",
       "25%       0.000000  \n",
       "50%       0.000000  \n",
       "75%       0.484848  \n",
       "max      57.599991  "
      ]
     },
     "execution_count": 8,
     "metadata": {},
     "output_type": "execute_result"
    }
   ],
   "source": [
    "fair.describe() #基本統計量"
   ]
  },
  {
   "cell_type": "code",
   "execution_count": 17,
   "metadata": {},
   "outputs": [
    {
     "data": {
      "text/html": [
       "<div>\n",
       "<style scoped>\n",
       "    .dataframe tbody tr th:only-of-type {\n",
       "        vertical-align: middle;\n",
       "    }\n",
       "\n",
       "    .dataframe tbody tr th {\n",
       "        vertical-align: top;\n",
       "    }\n",
       "\n",
       "    .dataframe thead th {\n",
       "        text-align: right;\n",
       "    }\n",
       "</style>\n",
       "<table border=\"1\" class=\"dataframe\">\n",
       "  <thead>\n",
       "    <tr style=\"text-align: right;\">\n",
       "      <th>occupation</th>\n",
       "      <th>1</th>\n",
       "      <th>2</th>\n",
       "      <th>3</th>\n",
       "      <th>4</th>\n",
       "      <th>5</th>\n",
       "      <th>6</th>\n",
       "    </tr>\n",
       "    <tr>\n",
       "      <th>educ</th>\n",
       "      <th></th>\n",
       "      <th></th>\n",
       "      <th></th>\n",
       "      <th></th>\n",
       "      <th></th>\n",
       "      <th></th>\n",
       "    </tr>\n",
       "  </thead>\n",
       "  <tbody>\n",
       "    <tr>\n",
       "      <th>9</th>\n",
       "      <td>0</td>\n",
       "      <td>25</td>\n",
       "      <td>12</td>\n",
       "      <td>6</td>\n",
       "      <td>4</td>\n",
       "      <td>1</td>\n",
       "    </tr>\n",
       "    <tr>\n",
       "      <th>12</th>\n",
       "      <td>3</td>\n",
       "      <td>492</td>\n",
       "      <td>1194</td>\n",
       "      <td>165</td>\n",
       "      <td>226</td>\n",
       "      <td>4</td>\n",
       "    </tr>\n",
       "    <tr>\n",
       "      <th>14</th>\n",
       "      <td>26</td>\n",
       "      <td>250</td>\n",
       "      <td>1260</td>\n",
       "      <td>422</td>\n",
       "      <td>305</td>\n",
       "      <td>14</td>\n",
       "    </tr>\n",
       "    <tr>\n",
       "      <th>16</th>\n",
       "      <td>2</td>\n",
       "      <td>54</td>\n",
       "      <td>263</td>\n",
       "      <td>649</td>\n",
       "      <td>134</td>\n",
       "      <td>15</td>\n",
       "    </tr>\n",
       "    <tr>\n",
       "      <th>17</th>\n",
       "      <td>6</td>\n",
       "      <td>26</td>\n",
       "      <td>42</td>\n",
       "      <td>369</td>\n",
       "      <td>55</td>\n",
       "      <td>12</td>\n",
       "    </tr>\n",
       "    <tr>\n",
       "      <th>20</th>\n",
       "      <td>4</td>\n",
       "      <td>12</td>\n",
       "      <td>12</td>\n",
       "      <td>223</td>\n",
       "      <td>16</td>\n",
       "      <td>63</td>\n",
       "    </tr>\n",
       "  </tbody>\n",
       "</table>\n",
       "</div>"
      ],
      "text/plain": [
       "occupation   1    2     3    4    5   6\n",
       "educ                                   \n",
       "9            0   25    12    6    4   1\n",
       "12           3  492  1194  165  226   4\n",
       "14          26  250  1260  422  305  14\n",
       "16           2   54   263  649  134  15\n",
       "17           6   26    42  369   55  12\n",
       "20           4   12    12  223   16  63"
      ]
     },
     "execution_count": 17,
     "metadata": {},
     "output_type": "execute_result"
    }
   ],
   "source": [
    "#看一下不同職業不同教育程度的卡方列聯表有多少人\n",
    "Cross1 = pd.crosstab(fair['educ'], fair['occupation']) #建立交叉列聯表\n",
    "Cross1"
   ]
  },
  {
   "cell_type": "code",
   "execution_count": 15,
   "metadata": {},
   "outputs": [
    {
     "data": {
      "text/html": [
       "<div>\n",
       "<style scoped>\n",
       "    .dataframe tbody tr th:only-of-type {\n",
       "        vertical-align: middle;\n",
       "    }\n",
       "\n",
       "    .dataframe tbody tr th {\n",
       "        vertical-align: top;\n",
       "    }\n",
       "\n",
       "    .dataframe thead th {\n",
       "        text-align: right;\n",
       "    }\n",
       "</style>\n",
       "<table border=\"1\" class=\"dataframe\">\n",
       "  <thead>\n",
       "    <tr style=\"text-align: right;\">\n",
       "      <th>occupation</th>\n",
       "      <th>1</th>\n",
       "      <th>2</th>\n",
       "      <th>3</th>\n",
       "      <th>4</th>\n",
       "      <th>5</th>\n",
       "      <th>6</th>\n",
       "    </tr>\n",
       "    <tr>\n",
       "      <th>educ</th>\n",
       "      <th></th>\n",
       "      <th></th>\n",
       "      <th></th>\n",
       "      <th></th>\n",
       "      <th></th>\n",
       "      <th></th>\n",
       "    </tr>\n",
       "  </thead>\n",
       "  <tbody>\n",
       "    <tr>\n",
       "      <th>9</th>\n",
       "      <td>NaN</td>\n",
       "      <td>0.623524</td>\n",
       "      <td>0.751292</td>\n",
       "      <td>0.315217</td>\n",
       "      <td>0.186182</td>\n",
       "      <td>0.076923</td>\n",
       "    </tr>\n",
       "    <tr>\n",
       "      <th>12</th>\n",
       "      <td>1.037037</td>\n",
       "      <td>0.654303</td>\n",
       "      <td>0.647941</td>\n",
       "      <td>0.756689</td>\n",
       "      <td>0.774509</td>\n",
       "      <td>6.719997</td>\n",
       "    </tr>\n",
       "    <tr>\n",
       "      <th>14</th>\n",
       "      <td>0.426622</td>\n",
       "      <td>0.918284</td>\n",
       "      <td>0.858709</td>\n",
       "      <td>0.579569</td>\n",
       "      <td>0.970028</td>\n",
       "      <td>0.888824</td>\n",
       "    </tr>\n",
       "    <tr>\n",
       "      <th>16</th>\n",
       "      <td>0.000000</td>\n",
       "      <td>0.358394</td>\n",
       "      <td>0.724386</td>\n",
       "      <td>0.499880</td>\n",
       "      <td>0.586366</td>\n",
       "      <td>0.736189</td>\n",
       "    </tr>\n",
       "    <tr>\n",
       "      <th>17</th>\n",
       "      <td>0.518518</td>\n",
       "      <td>0.925000</td>\n",
       "      <td>0.715238</td>\n",
       "      <td>0.666559</td>\n",
       "      <td>0.903009</td>\n",
       "      <td>0.853769</td>\n",
       "    </tr>\n",
       "    <tr>\n",
       "      <th>20</th>\n",
       "      <td>0.038043</td>\n",
       "      <td>0.634936</td>\n",
       "      <td>1.389343</td>\n",
       "      <td>0.349108</td>\n",
       "      <td>0.210852</td>\n",
       "      <td>1.103019</td>\n",
       "    </tr>\n",
       "  </tbody>\n",
       "</table>\n",
       "</div>"
      ],
      "text/plain": [
       "occupation         1         2         3         4         5         6\n",
       "educ                                                                  \n",
       "9                NaN  0.623524  0.751292  0.315217  0.186182  0.076923\n",
       "12          1.037037  0.654303  0.647941  0.756689  0.774509  6.719997\n",
       "14          0.426622  0.918284  0.858709  0.579569  0.970028  0.888824\n",
       "16          0.000000  0.358394  0.724386  0.499880  0.586366  0.736189\n",
       "17          0.518518  0.925000  0.715238  0.666559  0.903009  0.853769\n",
       "20          0.038043  0.634936  1.389343  0.349108  0.210852  1.103019"
      ]
     },
     "execution_count": 15,
     "metadata": {},
     "output_type": "execute_result"
    }
   ],
   "source": [
    "#不同教育程度與職業的平均離婚率\n",
    "fair.pivot_table('affairs', index='educ', columns='occupation') #樞紐分析表 (數字內容為平均數)"
   ]
  },
  {
   "cell_type": "code",
   "execution_count": 16,
   "metadata": {},
   "outputs": [
    {
     "data": {
      "text/html": [
       "<div>\n",
       "<style scoped>\n",
       "    .dataframe tbody tr th:only-of-type {\n",
       "        vertical-align: middle;\n",
       "    }\n",
       "\n",
       "    .dataframe tbody tr th {\n",
       "        vertical-align: top;\n",
       "    }\n",
       "\n",
       "    .dataframe thead th {\n",
       "        text-align: right;\n",
       "    }\n",
       "</style>\n",
       "<table border=\"1\" class=\"dataframe\">\n",
       "  <thead>\n",
       "    <tr style=\"text-align: right;\">\n",
       "      <th>occupation</th>\n",
       "      <th>1</th>\n",
       "      <th>2</th>\n",
       "      <th>3</th>\n",
       "      <th>4</th>\n",
       "      <th>5</th>\n",
       "      <th>6</th>\n",
       "    </tr>\n",
       "    <tr>\n",
       "      <th>educ</th>\n",
       "      <th></th>\n",
       "      <th></th>\n",
       "      <th></th>\n",
       "      <th></th>\n",
       "      <th></th>\n",
       "      <th></th>\n",
       "    </tr>\n",
       "  </thead>\n",
       "  <tbody>\n",
       "    <tr>\n",
       "      <th>9</th>\n",
       "      <td>NaN</td>\n",
       "      <td>3.480000</td>\n",
       "      <td>3.833333</td>\n",
       "      <td>3.833333</td>\n",
       "      <td>3.500000</td>\n",
       "      <td>2.000000</td>\n",
       "    </tr>\n",
       "    <tr>\n",
       "      <th>12</th>\n",
       "      <td>4.000000</td>\n",
       "      <td>4.077236</td>\n",
       "      <td>4.027638</td>\n",
       "      <td>4.048485</td>\n",
       "      <td>4.030973</td>\n",
       "      <td>4.750000</td>\n",
       "    </tr>\n",
       "    <tr>\n",
       "      <th>14</th>\n",
       "      <td>4.423077</td>\n",
       "      <td>4.088000</td>\n",
       "      <td>4.034921</td>\n",
       "      <td>4.170616</td>\n",
       "      <td>4.059016</td>\n",
       "      <td>4.357143</td>\n",
       "    </tr>\n",
       "    <tr>\n",
       "      <th>16</th>\n",
       "      <td>4.000000</td>\n",
       "      <td>4.314815</td>\n",
       "      <td>4.224335</td>\n",
       "      <td>4.271186</td>\n",
       "      <td>4.283582</td>\n",
       "      <td>3.933333</td>\n",
       "    </tr>\n",
       "    <tr>\n",
       "      <th>17</th>\n",
       "      <td>3.833333</td>\n",
       "      <td>3.461538</td>\n",
       "      <td>4.119048</td>\n",
       "      <td>4.260163</td>\n",
       "      <td>4.181818</td>\n",
       "      <td>4.250000</td>\n",
       "    </tr>\n",
       "    <tr>\n",
       "      <th>20</th>\n",
       "      <td>4.750000</td>\n",
       "      <td>4.250000</td>\n",
       "      <td>4.416667</td>\n",
       "      <td>4.183857</td>\n",
       "      <td>4.375000</td>\n",
       "      <td>4.174603</td>\n",
       "    </tr>\n",
       "  </tbody>\n",
       "</table>\n",
       "</div>"
      ],
      "text/plain": [
       "occupation         1         2         3         4         5         6\n",
       "educ                                                                  \n",
       "9                NaN  3.480000  3.833333  3.833333  3.500000  2.000000\n",
       "12          4.000000  4.077236  4.027638  4.048485  4.030973  4.750000\n",
       "14          4.423077  4.088000  4.034921  4.170616  4.059016  4.357143\n",
       "16          4.000000  4.314815  4.224335  4.271186  4.283582  3.933333\n",
       "17          3.833333  3.461538  4.119048  4.260163  4.181818  4.250000\n",
       "20          4.750000  4.250000  4.416667  4.183857  4.375000  4.174603"
      ]
     },
     "execution_count": 16,
     "metadata": {},
     "output_type": "execute_result"
    }
   ],
   "source": [
    "#不同教育程度與職業的婚姻品質\n",
    "fair.pivot_table('rate_marriage', index='educ', columns='occupation') #樞紐分析表 (數字內容為平均數)"
   ]
  },
  {
   "cell_type": "markdown",
   "metadata": {},
   "source": [
    "### 我們可以發現，例如: \n",
    "- occupation(5/ managerial, administrative, business) vs. educ(14/some college)\n",
    "    - 這個組合的樣本數 n=305\n",
    "    - 婚姻品質(rate_marriage) = 4.059016\n",
    "    - 離婚率(affairs) = 0.970028\n",
    "\n",
    "- 婚姻品質還不錯，但是離婚率高到嚇人"
   ]
  },
  {
   "cell_type": "code",
   "execution_count": 18,
   "metadata": {},
   "outputs": [
    {
     "data": {
      "text/html": [
       "<div>\n",
       "<style scoped>\n",
       "    .dataframe tbody tr th:only-of-type {\n",
       "        vertical-align: middle;\n",
       "    }\n",
       "\n",
       "    .dataframe tbody tr th {\n",
       "        vertical-align: top;\n",
       "    }\n",
       "\n",
       "    .dataframe thead th {\n",
       "        text-align: right;\n",
       "    }\n",
       "</style>\n",
       "<table border=\"1\" class=\"dataframe\">\n",
       "  <thead>\n",
       "    <tr style=\"text-align: right;\">\n",
       "      <th>occupation</th>\n",
       "      <th>1</th>\n",
       "      <th>2</th>\n",
       "      <th>3</th>\n",
       "      <th>4</th>\n",
       "      <th>5</th>\n",
       "      <th>6</th>\n",
       "    </tr>\n",
       "    <tr>\n",
       "      <th>educ</th>\n",
       "      <th></th>\n",
       "      <th></th>\n",
       "      <th></th>\n",
       "      <th></th>\n",
       "      <th></th>\n",
       "      <th></th>\n",
       "    </tr>\n",
       "  </thead>\n",
       "  <tbody>\n",
       "    <tr>\n",
       "      <th>9</th>\n",
       "      <td>NaN</td>\n",
       "      <td>13.660000</td>\n",
       "      <td>13.916667</td>\n",
       "      <td>16.250000</td>\n",
       "      <td>19.750000</td>\n",
       "      <td>13.000000</td>\n",
       "    </tr>\n",
       "    <tr>\n",
       "      <th>12</th>\n",
       "      <td>4.000000</td>\n",
       "      <td>9.717480</td>\n",
       "      <td>9.889866</td>\n",
       "      <td>10.639394</td>\n",
       "      <td>13.050885</td>\n",
       "      <td>6.375000</td>\n",
       "    </tr>\n",
       "    <tr>\n",
       "      <th>14</th>\n",
       "      <td>5.961538</td>\n",
       "      <td>8.160000</td>\n",
       "      <td>8.420238</td>\n",
       "      <td>9.806872</td>\n",
       "      <td>10.526230</td>\n",
       "      <td>9.928571</td>\n",
       "    </tr>\n",
       "    <tr>\n",
       "      <th>16</th>\n",
       "      <td>6.000000</td>\n",
       "      <td>6.768519</td>\n",
       "      <td>5.678707</td>\n",
       "      <td>7.306626</td>\n",
       "      <td>7.339552</td>\n",
       "      <td>6.566667</td>\n",
       "    </tr>\n",
       "    <tr>\n",
       "      <th>17</th>\n",
       "      <td>3.250000</td>\n",
       "      <td>6.230769</td>\n",
       "      <td>9.440476</td>\n",
       "      <td>8.012195</td>\n",
       "      <td>8.145455</td>\n",
       "      <td>7.708333</td>\n",
       "    </tr>\n",
       "    <tr>\n",
       "      <th>20</th>\n",
       "      <td>9.250000</td>\n",
       "      <td>10.250000</td>\n",
       "      <td>9.125000</td>\n",
       "      <td>10.181614</td>\n",
       "      <td>8.593750</td>\n",
       "      <td>9.269841</td>\n",
       "    </tr>\n",
       "  </tbody>\n",
       "</table>\n",
       "</div>"
      ],
      "text/plain": [
       "occupation         1          2          3          4          5          6\n",
       "educ                                                                       \n",
       "9                NaN  13.660000  13.916667  16.250000  19.750000  13.000000\n",
       "12          4.000000   9.717480   9.889866  10.639394  13.050885   6.375000\n",
       "14          5.961538   8.160000   8.420238   9.806872  10.526230   9.928571\n",
       "16          6.000000   6.768519   5.678707   7.306626   7.339552   6.566667\n",
       "17          3.250000   6.230769   9.440476   8.012195   8.145455   7.708333\n",
       "20          9.250000  10.250000   9.125000  10.181614   8.593750   9.269841"
      ]
     },
     "execution_count": 18,
     "metadata": {},
     "output_type": "execute_result"
    }
   ],
   "source": [
    "#那他們平均來說，維持了幾年婚姻呢?\n",
    "fair.pivot_table('yrs_married', index='educ', columns='occupation') #樞紐分析表 (數字內容為平均數)\n"
   ]
  },
  {
   "cell_type": "markdown",
   "metadata": {},
   "source": [
    ">## [PART 2]. 相關與ANOVA"
   ]
  },
  {
   "cell_type": "code",
   "execution_count": 19,
   "metadata": {},
   "outputs": [],
   "source": [
    "import seaborn as sns"
   ]
  },
  {
   "cell_type": "code",
   "execution_count": 20,
   "metadata": {},
   "outputs": [
    {
     "data": {
      "text/plain": [
       "Text(0.5, 1, 'Correlation Heatmap')"
      ]
     },
     "execution_count": 20,
     "metadata": {},
     "output_type": "execute_result"
    },
    {
     "data": {
      "image/png": "[encoded data removed]",
      "text/plain": [
       "<Figure size 432x288 with 2 Axes>"
      ]
     },
     "metadata": {
      "needs_background": "light"
     },
     "output_type": "display_data"
    }
   ],
   "source": [
    "heatmap = sns.heatmap(fair.corr(), vmin=-1, vmax=1, annot=True) #相關係數熱區圖\n",
    "heatmap.set_title('Correlation Heatmap', fontdict={'fontsize':12}, pad=12)\n"
   ]
  },
  {
   "cell_type": "markdown",
   "metadata": {},
   "source": [
    "### 2-1. One-Way ANOVA\n",
    "\n",
    "#### - H0: 不同職業的婚外情平均數相等\n",
    "#### - H1: 至少有一種職業的婚外情平均和其他職業不相等"
   ]
  },
  {
   "cell_type": "code",
   "execution_count": 30,
   "metadata": {},
   "outputs": [],
   "source": [
    "#create an Ordinary Least Squares (OLS) model as a precursor to the ANOVA. \n",
    "from scipy import stats\n",
    "import statsmodels\n",
    "import statsmodels.api as sm\n",
    "from statsmodels.formula.api import ols"
   ]
  },
  {
   "cell_type": "code",
   "execution_count": 31,
   "metadata": {},
   "outputs": [],
   "source": [
    "model = ols('affairs ~ occupation', fair).fit() #builds the OLS model, predicting weight loss with diet type."
   ]
  },
  {
   "cell_type": "code",
   "execution_count": 34,
   "metadata": {},
   "outputs": [
    {
     "name": "stdout",
     "output_type": "stream",
     "text": [
      "                  sum_sq      df         F    PR(>F)\n",
      "occupation     86.243777     5.0  3.560032  0.003236\n",
      "Residual    30814.913769  6360.0       NaN       NaN\n"
     ]
    }
   ],
   "source": [
    "table = sm.stats.anova_lm(model, typ=2) # Type 2 ANOVA DataFrame\n",
    "print(table) "
   ]
  },
  {
   "cell_type": "markdown",
   "metadata": {},
   "source": [
    "#### Reject H0。在α = 0.05下，我們有顯著的證據認為，職業對婚外情有差異。但是究竟誰高誰低，兩兩之間誰跟誰有差異? 我們需要進行ANOVA的事後多重比較"
   ]
  },
  {
   "cell_type": "markdown",
   "metadata": {},
   "source": [
    "### 2-2. 事後檢定(採用Tukey )"
   ]
  },
  {
   "cell_type": "code",
   "execution_count": 35,
   "metadata": {},
   "outputs": [
    {
     "name": "stdout",
     "output_type": "stream",
     "text": [
      "Multiple Comparison of Means - Tukey HSD, FWER=0.05 \n",
      "====================================================\n",
      "group1 group2 meandiff p-adj   lower   upper  reject\n",
      "----------------------------------------------------\n",
      "     1      2   0.2935    0.9 -0.7095  1.2966  False\n",
      "     1      3   0.3292    0.9 -0.6579  1.3163  False\n",
      "     1      4   0.1299    0.9 -0.8609  1.1207  False\n",
      "     1      5   0.3892 0.8724 -0.6175  1.3959  False\n",
      "     1      6   0.7683 0.4007 -0.3812  1.9178  False\n",
      "     2      3   0.0357    0.9 -0.2092  0.2806  False\n",
      "     2      4  -0.1636 0.4684 -0.4231  0.0958  False\n",
      "     2      5   0.0957    0.9  -0.219  0.4103  False\n",
      "     2      6   0.4747 0.2764 -0.1632  1.1127  False\n",
      "     3      4  -0.1993 0.0314  -0.388 -0.0106   True\n",
      "     3      5     0.06    0.9 -0.1996  0.3195  False\n",
      "     3      6   0.4391  0.318 -0.1736  1.0517  False\n",
      "     4      5   0.2593 0.0746  -0.014  0.5325  False\n",
      "     4      6   0.6384 0.0385  0.0198   1.257   True\n",
      "     5      6   0.3791 0.5395 -0.2646  1.0228  False\n",
      "----------------------------------------------------\n"
     ]
    }
   ],
   "source": [
    "from statsmodels.stats.multicomp import pairwise_tukeyhsd\n",
    "from statsmodels.stats.multicomp import MultiComparison\n",
    "\n",
    "mc = MultiComparison(fair['affairs'], fair['occupation'])\n",
    "tkresult = mc.tukeyhsd()\n",
    " \n",
    "print(tkresult)"
   ]
  },
  {
   "cell_type": "markdown",
   "metadata": {},
   "source": [
    "#### 由上表可以看出，\n",
    "- white-colloar(3) 和 teacher counselor social worker, nurse; artist, writers; technician, skilled worker(4)有顯著差異\n",
    "- teacher counselor social worker, nurse; artist, writers; technician, skilled worker(4) 和 professional with advanced degree(6)\n"
   ]
  },
  {
   "cell_type": "markdown",
   "metadata": {},
   "source": [
    "### [回家作業]: 同學可以試做 two-way ANOVA，自行決定變數"
   ]
  },
  {
   "cell_type": "markdown",
   "metadata": {},
   "source": []
  },
  {
   "cell_type": "markdown",
   "metadata": {},
   "source": [
    "## [PART 3]. 迴歸分析"
   ]
  },
  {
   "cell_type": "code",
   "execution_count": 36,
   "metadata": {},
   "outputs": [
    {
     "data": {
      "text/html": [
       "<div>\n",
       "<style scoped>\n",
       "    .dataframe tbody tr th:only-of-type {\n",
       "        vertical-align: middle;\n",
       "    }\n",
       "\n",
       "    .dataframe tbody tr th {\n",
       "        vertical-align: top;\n",
       "    }\n",
       "\n",
       "    .dataframe thead th {\n",
       "        text-align: right;\n",
       "    }\n",
       "</style>\n",
       "<table border=\"1\" class=\"dataframe\">\n",
       "  <thead>\n",
       "    <tr style=\"text-align: right;\">\n",
       "      <th></th>\n",
       "      <th>rate_marriage</th>\n",
       "      <th>age</th>\n",
       "      <th>yrs_married</th>\n",
       "      <th>children</th>\n",
       "      <th>educ</th>\n",
       "      <th>affairs</th>\n",
       "    </tr>\n",
       "  </thead>\n",
       "  <tbody>\n",
       "    <tr>\n",
       "      <th>count</th>\n",
       "      <td>6366.000000</td>\n",
       "      <td>6366.000000</td>\n",
       "      <td>6366.000000</td>\n",
       "      <td>6366.000000</td>\n",
       "      <td>6366.000000</td>\n",
       "      <td>6366.000000</td>\n",
       "    </tr>\n",
       "    <tr>\n",
       "      <th>mean</th>\n",
       "      <td>4.109645</td>\n",
       "      <td>29.082862</td>\n",
       "      <td>9.009425</td>\n",
       "      <td>1.396874</td>\n",
       "      <td>14.209865</td>\n",
       "      <td>0.705374</td>\n",
       "    </tr>\n",
       "    <tr>\n",
       "      <th>std</th>\n",
       "      <td>0.961430</td>\n",
       "      <td>6.847882</td>\n",
       "      <td>7.280120</td>\n",
       "      <td>1.433471</td>\n",
       "      <td>2.178003</td>\n",
       "      <td>2.203374</td>\n",
       "    </tr>\n",
       "    <tr>\n",
       "      <th>min</th>\n",
       "      <td>1.000000</td>\n",
       "      <td>17.500000</td>\n",
       "      <td>0.500000</td>\n",
       "      <td>0.000000</td>\n",
       "      <td>9.000000</td>\n",
       "      <td>0.000000</td>\n",
       "    </tr>\n",
       "    <tr>\n",
       "      <th>25%</th>\n",
       "      <td>4.000000</td>\n",
       "      <td>22.000000</td>\n",
       "      <td>2.500000</td>\n",
       "      <td>0.000000</td>\n",
       "      <td>12.000000</td>\n",
       "      <td>0.000000</td>\n",
       "    </tr>\n",
       "    <tr>\n",
       "      <th>50%</th>\n",
       "      <td>4.000000</td>\n",
       "      <td>27.000000</td>\n",
       "      <td>6.000000</td>\n",
       "      <td>1.000000</td>\n",
       "      <td>14.000000</td>\n",
       "      <td>0.000000</td>\n",
       "    </tr>\n",
       "    <tr>\n",
       "      <th>75%</th>\n",
       "      <td>5.000000</td>\n",
       "      <td>32.000000</td>\n",
       "      <td>16.500000</td>\n",
       "      <td>2.000000</td>\n",
       "      <td>16.000000</td>\n",
       "      <td>0.484848</td>\n",
       "    </tr>\n",
       "    <tr>\n",
       "      <th>max</th>\n",
       "      <td>5.000000</td>\n",
       "      <td>42.000000</td>\n",
       "      <td>23.000000</td>\n",
       "      <td>5.500000</td>\n",
       "      <td>20.000000</td>\n",
       "      <td>57.599991</td>\n",
       "    </tr>\n",
       "  </tbody>\n",
       "</table>\n",
       "</div>"
      ],
      "text/plain": [
       "       rate_marriage          age  yrs_married     children         educ  \\\n",
       "count    6366.000000  6366.000000  6366.000000  6366.000000  6366.000000   \n",
       "mean        4.109645    29.082862     9.009425     1.396874    14.209865   \n",
       "std         0.961430     6.847882     7.280120     1.433471     2.178003   \n",
       "min         1.000000    17.500000     0.500000     0.000000     9.000000   \n",
       "25%         4.000000    22.000000     2.500000     0.000000    12.000000   \n",
       "50%         4.000000    27.000000     6.000000     1.000000    14.000000   \n",
       "75%         5.000000    32.000000    16.500000     2.000000    16.000000   \n",
       "max         5.000000    42.000000    23.000000     5.500000    20.000000   \n",
       "\n",
       "           affairs  \n",
       "count  6366.000000  \n",
       "mean      0.705374  \n",
       "std       2.203374  \n",
       "min       0.000000  \n",
       "25%       0.000000  \n",
       "50%       0.000000  \n",
       "75%       0.484848  \n",
       "max      57.599991  "
      ]
     },
     "execution_count": 36,
     "metadata": {},
     "output_type": "execute_result"
    }
   ],
   "source": [
    "fair.describe() #基本統計量"
   ]
  },
  {
   "cell_type": "code",
   "execution_count": 37,
   "metadata": {},
   "outputs": [],
   "source": [
    "#複製一組資料集來做下列的運算，避免做錯被覆蓋\n",
    "df2 = fair.copy() #整份資料要copy成另一份時"
   ]
  },
  {
   "cell_type": "code",
   "execution_count": 38,
   "metadata": {},
   "outputs": [],
   "source": [
    "import statsmodels.api as sm"
   ]
  },
  {
   "cell_type": "markdown",
   "metadata": {},
   "source": [
    "### 3-1. 簡單迴歸"
   ]
  },
  {
   "cell_type": "markdown",
   "metadata": {},
   "source": [
    "### Model 1: 有小孩真的比較不會離婚?\n"
   ]
  },
  {
   "cell_type": "code",
   "execution_count": 40,
   "metadata": {},
   "outputs": [
    {
     "name": "stdout",
     "output_type": "stream",
     "text": [
      "                            OLS Regression Results                            \n",
      "==============================================================================\n",
      "Dep. Variable:                affairs   R-squared:                       0.005\n",
      "Model:                            OLS   Adj. R-squared:                  0.005\n",
      "Method:                 Least Squares   F-statistic:                     31.59\n",
      "Date:                Mon, 25 Jan 2021   Prob (F-statistic):           1.99e-08\n",
      "Time:                        15:33:33   Log-Likelihood:                -14046.\n",
      "No. Observations:                6366   AIC:                         2.810e+04\n",
      "Df Residuals:                    6364   BIC:                         2.811e+04\n",
      "Df Model:                           1                                         \n",
      "Covariance Type:            nonrobust                                         \n",
      "==============================================================================\n",
      "                 coef    std err          t      P>|t|      [0.025      0.975]\n",
      "------------------------------------------------------------------------------\n",
      "Intercept      0.8563      0.038     22.259      0.000       0.781       0.932\n",
      "children      -0.1080      0.019     -5.620      0.000      -0.146      -0.070\n",
      "==============================================================================\n",
      "Omnibus:                     9310.770   Durbin-Watson:                   1.501\n",
      "Prob(Omnibus):                  0.000   Jarque-Bera (JB):          4690559.288\n",
      "Skew:                           8.713   Prob(JB):                         0.00\n",
      "Kurtosis:                     134.833   Cond. No.                         3.18\n",
      "==============================================================================\n",
      "\n",
      "Warnings:\n",
      "[1] Standard Errors assume that the covariance matrix of the errors is correctly specified.\n"
     ]
    }
   ],
   "source": [
    "import statsmodels.api as sm\n",
    "import statsmodels.formula.api as smf\n",
    "\n",
    "results = smf.ols('affairs ~ children', data=df2).fit() #簡單迴歸\n",
    "print(results.summary())"
   ]
  },
  {
   "cell_type": "markdown",
   "metadata": {},
   "source": [
    "### Model 2: 婚姻品質越好越不會離婚?"
   ]
  },
  {
   "cell_type": "code",
   "execution_count": 41,
   "metadata": {},
   "outputs": [
    {
     "name": "stdout",
     "output_type": "stream",
     "text": [
      "                            OLS Regression Results                            \n",
      "==============================================================================\n",
      "Dep. Variable:                affairs   R-squared:                       0.032\n",
      "Model:                            OLS   Adj. R-squared:                  0.032\n",
      "Method:                 Least Squares   F-statistic:                     208.4\n",
      "Date:                Mon, 25 Jan 2021   Prob (F-statistic):           1.66e-46\n",
      "Time:                        15:38:03   Log-Likelihood:                -13959.\n",
      "No. Observations:                6366   AIC:                         2.792e+04\n",
      "Df Residuals:                    6364   BIC:                         2.794e+04\n",
      "Df Model:                           1                                         \n",
      "Covariance Type:            nonrobust                                         \n",
      "=================================================================================\n",
      "                    coef    std err          t      P>|t|      [0.025      0.975]\n",
      "---------------------------------------------------------------------------------\n",
      "Intercept         2.3825      0.119     19.969      0.000       2.149       2.616\n",
      "rate_marriage    -0.4081      0.028    -14.436      0.000      -0.464      -0.353\n",
      "==============================================================================\n",
      "Omnibus:                     9443.528   Durbin-Watson:                   1.606\n",
      "Prob(Omnibus):                  0.000   Jarque-Bera (JB):          5215639.758\n",
      "Skew:                           8.930   Prob(JB):                         0.00\n",
      "Kurtosis:                     142.083   Cond. No.                         19.5\n",
      "==============================================================================\n",
      "\n",
      "Warnings:\n",
      "[1] Standard Errors assume that the covariance matrix of the errors is correctly specified.\n"
     ]
    }
   ],
   "source": [
    "results = smf.ols('affairs ~ rate_marriage', data=df2).fit() #簡單迴歸\n",
    "print(results.summary())"
   ]
  },
  {
   "cell_type": "markdown",
   "metadata": {},
   "source": [
    "### 3-2. 複迴歸"
   ]
  },
  {
   "cell_type": "markdown",
   "metadata": {},
   "source": [
    "### Model 3: 婚外情到底受到那些因素影響"
   ]
  },
  {
   "cell_type": "code",
   "execution_count": 39,
   "metadata": {},
   "outputs": [
    {
     "data": {
      "text/html": [
       "<table class=\"simpletable\">\n",
       "<caption>OLS Regression Results</caption>\n",
       "<tr>\n",
       "  <th>Dep. Variable:</th>         <td>affairs</td>     <th>  R-squared (uncentered):</th>      <td>   0.112</td> \n",
       "</tr>\n",
       "<tr>\n",
       "  <th>Model:</th>                   <td>OLS</td>       <th>  Adj. R-squared (uncentered):</th> <td>   0.111</td> \n",
       "</tr>\n",
       "<tr>\n",
       "  <th>Method:</th>             <td>Least Squares</td>  <th>  F-statistic:       </th>          <td>   160.3</td> \n",
       "</tr>\n",
       "<tr>\n",
       "  <th>Date:</th>             <td>Mon, 25 Jan 2021</td> <th>  Prob (F-statistic):</th>          <td>5.46e-161</td>\n",
       "</tr>\n",
       "<tr>\n",
       "  <th>Time:</th>                 <td>15:30:27</td>     <th>  Log-Likelihood:    </th>          <td> -13994.</td> \n",
       "</tr>\n",
       "<tr>\n",
       "  <th>No. Observations:</th>      <td>  6366</td>      <th>  AIC:               </th>          <td>2.800e+04</td>\n",
       "</tr>\n",
       "<tr>\n",
       "  <th>Df Residuals:</th>          <td>  6361</td>      <th>  BIC:               </th>          <td>2.803e+04</td>\n",
       "</tr>\n",
       "<tr>\n",
       "  <th>Df Model:</th>              <td>     5</td>      <th>                     </th>              <td> </td>    \n",
       "</tr>\n",
       "<tr>\n",
       "  <th>Covariance Type:</th>      <td>nonrobust</td>    <th>                     </th>              <td> </td>    \n",
       "</tr>\n",
       "</table>\n",
       "<table class=\"simpletable\">\n",
       "<tr>\n",
       "        <td></td>           <th>coef</th>     <th>std err</th>      <th>t</th>      <th>P>|t|</th>  <th>[0.025</th>    <th>0.975]</th>  \n",
       "</tr>\n",
       "<tr>\n",
       "  <th>rate_marriage</th> <td>   -0.2875</td> <td>    0.026</td> <td>  -11.049</td> <td> 0.000</td> <td>   -0.339</td> <td>   -0.236</td>\n",
       "</tr>\n",
       "<tr>\n",
       "  <th>age</th>           <td>    0.0493</td> <td>    0.008</td> <td>    6.396</td> <td> 0.000</td> <td>    0.034</td> <td>    0.064</td>\n",
       "</tr>\n",
       "<tr>\n",
       "  <th>yrs_married</th>   <td>   -0.0650</td> <td>    0.009</td> <td>   -7.050</td> <td> 0.000</td> <td>   -0.083</td> <td>   -0.047</td>\n",
       "</tr>\n",
       "<tr>\n",
       "  <th>children</th>      <td>    0.0028</td> <td>    0.030</td> <td>    0.094</td> <td> 0.925</td> <td>   -0.056</td> <td>    0.062</td>\n",
       "</tr>\n",
       "<tr>\n",
       "  <th>educ</th>          <td>    0.0704</td> <td>    0.012</td> <td>    6.088</td> <td> 0.000</td> <td>    0.048</td> <td>    0.093</td>\n",
       "</tr>\n",
       "</table>\n",
       "<table class=\"simpletable\">\n",
       "<tr>\n",
       "  <th>Omnibus:</th>       <td>9309.618</td> <th>  Durbin-Watson:     </th>  <td>   1.538</td>  \n",
       "</tr>\n",
       "<tr>\n",
       "  <th>Prob(Omnibus):</th>  <td> 0.000</td>  <th>  Jarque-Bera (JB):  </th> <td>4863007.522</td>\n",
       "</tr>\n",
       "<tr>\n",
       "  <th>Skew:</th>           <td> 8.693</td>  <th>  Prob(JB):          </th>  <td>    0.00</td>  \n",
       "</tr>\n",
       "<tr>\n",
       "  <th>Kurtosis:</th>       <td>137.281</td> <th>  Cond. No.          </th>  <td>    38.7</td>  \n",
       "</tr>\n",
       "</table><br/><br/>Warnings:<br/>[1] Standard Errors assume that the covariance matrix of the errors is correctly specified."
      ],
      "text/plain": [
       "<class 'statsmodels.iolib.summary.Summary'>\n",
       "\"\"\"\n",
       "                                 OLS Regression Results                                \n",
       "=======================================================================================\n",
       "Dep. Variable:                affairs   R-squared (uncentered):                   0.112\n",
       "Model:                            OLS   Adj. R-squared (uncentered):              0.111\n",
       "Method:                 Least Squares   F-statistic:                              160.3\n",
       "Date:                Mon, 25 Jan 2021   Prob (F-statistic):                   5.46e-161\n",
       "Time:                        15:30:27   Log-Likelihood:                         -13994.\n",
       "No. Observations:                6366   AIC:                                  2.800e+04\n",
       "Df Residuals:                    6361   BIC:                                  2.803e+04\n",
       "Df Model:                           5                                                  \n",
       "Covariance Type:            nonrobust                                                  \n",
       "=================================================================================\n",
       "                    coef    std err          t      P>|t|      [0.025      0.975]\n",
       "---------------------------------------------------------------------------------\n",
       "rate_marriage    -0.2875      0.026    -11.049      0.000      -0.339      -0.236\n",
       "age               0.0493      0.008      6.396      0.000       0.034       0.064\n",
       "yrs_married      -0.0650      0.009     -7.050      0.000      -0.083      -0.047\n",
       "children          0.0028      0.030      0.094      0.925      -0.056       0.062\n",
       "educ              0.0704      0.012      6.088      0.000       0.048       0.093\n",
       "==============================================================================\n",
       "Omnibus:                     9309.618   Durbin-Watson:                   1.538\n",
       "Prob(Omnibus):                  0.000   Jarque-Bera (JB):          4863007.522\n",
       "Skew:                           8.693   Prob(JB):                         0.00\n",
       "Kurtosis:                     137.281   Cond. No.                         38.7\n",
       "==============================================================================\n",
       "\n",
       "Warnings:\n",
       "[1] Standard Errors assume that the covariance matrix of the errors is correctly specified.\n",
       "\"\"\""
      ]
     },
     "execution_count": 39,
     "metadata": {},
     "output_type": "execute_result"
    }
   ],
   "source": [
    "X = df2[[\"rate_marriage\", \"age\", \"yrs_married\",\"children\",\"educ\"]]\n",
    "y = df2[\"affairs\"]\n",
    "\n",
    "# Note the difference in argument order\n",
    "model = sm.OLS(y, X).fit()\n",
    "predictions = model.predict(X) # make the predictions by the model\n",
    "\n",
    "# Print out the statistics\n",
    "model.summary()"
   ]
  },
  {
   "cell_type": "markdown",
   "metadata": {},
   "source": [
    "### [小結]. 在alpha=0.05下，我們有顯著的證據支持，婚姻品質(rate_marriage)對婚外情有負向的影響"
   ]
  },
  {
   "cell_type": "code",
   "execution_count": null,
   "metadata": {},
   "outputs": [],
   "source": []
  }
 ],
 "metadata": {
  "kernelspec": {
   "display_name": "Python 3",
   "language": "python",
   "name": "python3"
  },
  "language_info": {
   "codemirror_mode": {
    "name": "ipython",
    "version": 3
   },
   "file_extension": ".py",
   "mimetype": "text/x-python",
   "name": "python",
   "nbconvert_exporter": "python",
   "pygments_lexer": "ipython3",
   "version": "3.7.1"
  }
 },
 "nbformat": 4,
 "nbformat_minor": 4
}
